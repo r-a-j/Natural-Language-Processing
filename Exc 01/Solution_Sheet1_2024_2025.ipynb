{
 "cells": [
  {
   "cell_type": "markdown",
   "metadata": {},
   "source": [
    "### Task 1\n",
    "\n",
    "Load the text data file named magic.txt. It contains the description of 1419 Magic: The Gathering cards. This description contains crucial information about each card, such as its name, its mana cost, its type and its effect. Your task will be to extract all crucial information from this data set of unstructured text and turn it into a well-structured data format.\n",
    "\n",
    "This description contains crucial information about each card, such as its CardName, CardCost, CardType, CardEffect.\n",
    "\n",
    "#### **Breakdown of Each Part:**\n",
    "\n",
    "Regex Component\n",
    "\n",
    "Explanation\n",
    "\n",
    "`CardName:`\n",
    "\n",
    "Matches the fixed text `\"CardName: \"` exactly.\n",
    "\n",
    "`(.*?)`\n",
    "\n",
    "Captures **CardName** (non-greedy match to stop at the next `CardCost:`).\n",
    "\n",
    "`CardCost:`\n",
    "\n",
    "Matches the fixed text `\"CardCost: \"`.\n",
    "\n",
    "`(.*?)`\n",
    "\n",
    "Captures **CardCost** (stops at the next `CardType:`).\n",
    "\n",
    "`CardType:`\n",
    "\n",
    "Matches the fixed text `\"CardType: \"`.\n",
    "\n",
    "`(.*?)`\n",
    "\n",
    "Captures **CardType** (stops at the next `CardEffect:`).\n",
    "\n",
    "`CardEffect:`\n",
    "\n",
    "Matches the fixed text `\"CardEffect: \"`.\n",
    "\n",
    "`(.*)`\n",
    "\n",
    "1.  **Capturing Groups `(.*?)`**:\n",
    "    -   **`.*?` (non-greedy match)** ensures it captures only up to the next fixed text (`CardCost:`, `CardType:`).\n",
    "2.  **Fixed Text Matching**:\n",
    "    -   We explicitly write `\"CardName: \"`, `\"CardCost: \"`, etc., so that our pattern finds each field reliably.\n",
    "3.  **Handling Variable-Length Fields**:\n",
    "    -   The last field `CardEffect` uses `(.*)` without `?` to capture the **remaining** text."
   ]
  },
  {
   "cell_type": "code",
   "execution_count": 1,
   "metadata": {},
   "outputs": [
    {
     "name": "stdout",
     "output_type": "stream",
     "text": [
      "CardName: Absorb CardCost: {W}{U}{U} CardType: Instant CardEffect: Counter target spell. You gain 3 life.\n",
      "CardName: Acclaimed Contender CardCost: {2}{W} CardType: Creature — Human Knight CardEffect: When Acclaimed Contender enters the battlefield, if you control another Knight, look at the top five cards of your library. You may reveal a Knight, Aura, Equipment, or legendary artifact card from among them and put it into your hand. Put the rest on the bottom of your library in a random order.\n",
      "CardName: Act of Treason CardCost: {2}{R} CardType: Sorcery CardEffect: Gain control of target creature until end of turn. Untap that creature. It gains haste until end of turn. (It can attack and {T} this turn.)\n",
      "CardName: Aerial Assault CardCost: {2}{W} CardType: Sorcery CardEffect: Destroy target tapped creature. You gain 1 life for each creature you control with flying.\n",
      "CardName: Aeromunculus CardCost: {1}{G}{U} CardType: Creature — Homunculus Mutant CardEffect: Flying {2}{G}{U}: Adapt 1. (If th\n"
     ]
    }
   ],
   "source": [
    "# Task 1: Load the file into Python\n",
    "file_path = \"magic.txt\"  # Replace with the actual path if needed\n",
    "\n",
    "# Read the file content\n",
    "with open(file_path, \"r\", encoding=\"utf-8\") as file:\n",
    "    data = file.read()\n",
    "\n",
    "# Print the first few characters to check if the file is loaded correctly\n",
    "print(data[:1000])  # Display only the first 500 characters"
   ]
  },
  {
   "cell_type": "code",
   "execution_count": 2,
   "metadata": {},
   "outputs": [],
   "source": [
    "# # Define the regex pattern\n",
    "# pattern = r'CardName: (.*?) CardCost: (.*?) CardType: (.*?) CardEffect: (.*)'\n",
    "\n",
    "# # Set the file path\n",
    "# file_path = \"magic.txt\" \n",
    "\n",
    "# # Initialize a list to store extracted data\n",
    "# cards = []\n",
    "\n",
    "# with open(file_path, \"r\", encoding=\"utf-8\") as file:\n",
    "#     for line in file:\n",
    "#         match = re.match(pattern, line.strip())  # Remove leading/trailing whitespace\n",
    "#         if match:\n",
    "#             card_name, card_cost, card_type, card_effect = match.groups()\n",
    "#             cards.append({\n",
    "#                 \"CardName\": card_name,\n",
    "#                 \"CardCost\": card_cost,\n",
    "#                 \"CardType\": card_type,\n",
    "#                 \"CardEffect\": card_effect\n",
    "#             })\n",
    "    \n",
    "# # Create DataFrame\n",
    "# df = pd.DataFrame(cards, columns=[\"CardName\", \"CardCost\", \"CardType\", \"CardEffect\"])\n",
    "\n",
    "# # Display DataFrame\n",
    "# print(df.head())\n"
   ]
  },
  {
   "cell_type": "markdown",
   "metadata": {},
   "source": [
    "### Task 2\n",
    "\n",
    "Each line in the document represents the information about one card. Split the lines (separator ”\\n”) to be able to look at each card individually. The result should be a list of strings /a character vector"
   ]
  },
  {
   "cell_type": "code",
   "execution_count": 3,
   "metadata": {},
   "outputs": [
    {
     "name": "stdout",
     "output_type": "stream",
     "text": [
      "['CardName: Absorb CardCost: {W}{U}{U} CardType: Instant CardEffect: Counter target spell. You gain 3 life.', 'CardName: Acclaimed Contender CardCost: {2}{W} CardType: Creature — Human Knight CardEffect: When Acclaimed Contender enters the battlefield, if you control another Knight, look at the top five cards of your library. You may reveal a Knight, Aura, Equipment, or legendary artifact card from among them and put it into your hand. Put the rest on the bottom of your library in a random order.', 'CardName: Act of Treason CardCost: {2}{R} CardType: Sorcery CardEffect: Gain control of target creature until end of turn. Untap that creature. It gains haste until end of turn. (It can attack and {T} this turn.)', 'CardName: Aerial Assault CardCost: {2}{W} CardType: Sorcery CardEffect: Destroy target tapped creature. You gain 1 life for each creature you control with flying.', 'CardName: Aeromunculus CardCost: {1}{G}{U} CardType: Creature — Homunculus Mutant CardEffect: Flying {2}{G}{U}: Adapt 1. (If this creature has no +1/+1 counters on it, put a +1/+1 counter on it.)']\n"
     ]
    }
   ],
   "source": [
    "# Task 2: Split data into lines\n",
    "lines = data.split(\"\\n\")  # Split the text using newline character\n",
    "\n",
    "# Print the first few lines to verify\n",
    "print(lines[:5])  # Show first 5 lines\n"
   ]
  },
  {
   "cell_type": "markdown",
   "metadata": {},
   "source": [
    "### Task 3\n",
    "\n",
    "The information about each card is given in the following format: CardName: [...] CardCost: [...] CardType: [...] CardEffect: [...] Exploit this format to extract and save each bit of information separately. Turn the information you collected into a coherent data frame with the columns “Name”, “Cost”, “Type” and “Effect”."
   ]
  },
  {
   "cell_type": "code",
   "execution_count": 4,
   "metadata": {},
   "outputs": [
    {
     "data": {
      "text/html": [
       "<div>\n",
       "<style scoped>\n",
       "    .dataframe tbody tr th:only-of-type {\n",
       "        vertical-align: middle;\n",
       "    }\n",
       "\n",
       "    .dataframe tbody tr th {\n",
       "        vertical-align: top;\n",
       "    }\n",
       "\n",
       "    .dataframe thead th {\n",
       "        text-align: right;\n",
       "    }\n",
       "</style>\n",
       "<table border=\"1\" class=\"dataframe\">\n",
       "  <thead>\n",
       "    <tr style=\"text-align: right;\">\n",
       "      <th></th>\n",
       "      <th>Name</th>\n",
       "      <th>Cost</th>\n",
       "      <th>Type</th>\n",
       "      <th>Effect</th>\n",
       "    </tr>\n",
       "  </thead>\n",
       "  <tbody>\n",
       "    <tr>\n",
       "      <th>0</th>\n",
       "      <td>Absorb</td>\n",
       "      <td>{W}{U}{U}</td>\n",
       "      <td>Instant</td>\n",
       "      <td>Counter target spell. You gain 3 life.</td>\n",
       "    </tr>\n",
       "    <tr>\n",
       "      <th>1</th>\n",
       "      <td>Acclaimed Contender</td>\n",
       "      <td>{2}{W}</td>\n",
       "      <td>Creature — Human Knight</td>\n",
       "      <td>When Acclaimed Contender enters the battlefiel...</td>\n",
       "    </tr>\n",
       "    <tr>\n",
       "      <th>2</th>\n",
       "      <td>Act of Treason</td>\n",
       "      <td>{2}{R}</td>\n",
       "      <td>Sorcery</td>\n",
       "      <td>Gain control of target creature until end of t...</td>\n",
       "    </tr>\n",
       "    <tr>\n",
       "      <th>3</th>\n",
       "      <td>Aerial Assault</td>\n",
       "      <td>{2}{W}</td>\n",
       "      <td>Sorcery</td>\n",
       "      <td>Destroy target tapped creature. You gain 1 lif...</td>\n",
       "    </tr>\n",
       "    <tr>\n",
       "      <th>4</th>\n",
       "      <td>Aeromunculus</td>\n",
       "      <td>{1}{G}{U}</td>\n",
       "      <td>Creature — Homunculus Mutant</td>\n",
       "      <td>Flying {2}{G}{U}: Adapt 1. (If this creature h...</td>\n",
       "    </tr>\n",
       "  </tbody>\n",
       "</table>\n",
       "</div>"
      ],
      "text/plain": [
       "                  Name       Cost                          Type  \\\n",
       "0               Absorb  {W}{U}{U}                       Instant   \n",
       "1  Acclaimed Contender     {2}{W}       Creature — Human Knight   \n",
       "2       Act of Treason     {2}{R}                       Sorcery   \n",
       "3       Aerial Assault     {2}{W}                       Sorcery   \n",
       "4         Aeromunculus  {1}{G}{U}  Creature — Homunculus Mutant   \n",
       "\n",
       "                                              Effect  \n",
       "0             Counter target spell. You gain 3 life.  \n",
       "1  When Acclaimed Contender enters the battlefiel...  \n",
       "2  Gain control of target creature until end of t...  \n",
       "3  Destroy target tapped creature. You gain 1 lif...  \n",
       "4  Flying {2}{G}{U}: Adapt 1. (If this creature h...  "
      ]
     },
     "execution_count": 4,
     "metadata": {},
     "output_type": "execute_result"
    }
   ],
   "source": [
    "import pandas as pd\n",
    "import re\n",
    "\n",
    "# Task 3: Define regex pattern for extracting card details\n",
    "pattern = r'CardName: (.*?) CardCost: (.*?) CardType: (.*?) CardEffect: (.*)'\n",
    "\n",
    "# Initialize an empty list to store structured data\n",
    "cards = []\n",
    "\n",
    "# Extract information using regex\n",
    "for line in lines:\n",
    "    match = re.match(pattern, line.strip())  # Remove extra spaces\n",
    "    if match:\n",
    "        card_name, card_cost, card_type, card_effect = match.groups()\n",
    "        cards.append({\"Name\": card_name, \"Cost\": card_cost, \"Type\": card_type, \"Effect\": card_effect})\n",
    "\n",
    "# Convert list of dictionaries into a DataFrame\n",
    "df = pd.DataFrame(cards)\n",
    "\n",
    "# Display the first few rows\n",
    "df.head()"
   ]
  },
  {
   "cell_type": "markdown",
   "metadata": {},
   "source": [
    "### Task 4\n",
    "\n",
    "Which of the words “Creature”, “Sorcery”, “Instant”, “Enchantment” and “Artifact” appears most often in all the texts within the “Type” column?"
   ]
  },
  {
   "cell_type": "code",
   "execution_count": 5,
   "metadata": {},
   "outputs": [
    {
     "name": "stdout",
     "output_type": "stream",
     "text": [
      "Creature: 733 occurrences\n",
      "Sorcery: 185 occurrences\n",
      "Instant: 215 occurrences\n",
      "Enchantment: 85 occurrences\n",
      "Artifact: 108 occurrences\n",
      "Most Common Word: Creature\n"
     ]
    }
   ],
   "source": [
    "# Task 4: Count occurrences of specific words in the \"Type\" column\n",
    "word_list = [\"Creature\", \"Sorcery\", \"Instant\", \"Enchantment\", \"Artifact\"]\n",
    "word_counts = {word: 0 for word in word_list}  # Initialize a dictionary for counting\n",
    "\n",
    "# Count occurrences in the \"Type\" column\n",
    "for card_type in df[\"Type\"]:\n",
    "    for word in word_list:\n",
    "        if word in card_type:\n",
    "            word_counts[word] += 1\n",
    "\n",
    "# Find the most frequently occurring word\n",
    "most_common_word = max(word_counts, key=word_counts.get)\n",
    "\n",
    "# Display the results\n",
    "for word, count in word_counts.items():\n",
    "    print(f\"{word}: {count} occurrences\")\n",
    "print(\"Most Common Word:\", most_common_word)\n"
   ]
  }
 ],
 "metadata": {
  "kernelspec": {
   "display_name": "exam_env",
   "language": "python",
   "name": "python3"
  },
  "language_info": {
   "codemirror_mode": {
    "name": "ipython",
    "version": 3
   },
   "file_extension": ".py",
   "mimetype": "text/x-python",
   "name": "python",
   "nbconvert_exporter": "python",
   "pygments_lexer": "ipython3",
   "version": "3.9.21"
  }
 },
 "nbformat": 4,
 "nbformat_minor": 2
}
