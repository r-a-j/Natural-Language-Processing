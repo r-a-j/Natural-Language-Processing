{
 "cells": [
  {
   "cell_type": "markdown",
   "metadata": {},
   "source": [
    "# Task 1. \n",
    "\n",
    "#### There are 3 files, each containing 2 movie reviews: reviews1.txt, reviews2.txt and reviews3.txt. One of the files has a UTF-16 encoding, while the other two are UTF-8 encoded. Check them for their encoding and load the texts within them into your console."
   ]
  },
  {
   "cell_type": "code",
   "execution_count": 42,
   "metadata": {},
   "outputs": [
    {
     "data": {
      "text/plain": [
       "[\"Story of a man who has unnatural feelings for a pig. Starts out with a opening scene that is a terrific example of absurd comedy. A formal orchestra audience is turned into an insane, violent mob by the crazy chantings of it's singers. Unfortunately it stays absurd the WHOLE time with no general narrative eventually making it just too off putting. Even those from the era should be turned off. The cryptic dialogue would make Shakespeare seem easy to a third grader. On a technical level it's better than you might think with some good cinematography by future great Vilmos Zsigmond. Future stars Sally Kirkland and Frederic Forrest can be seen briefly.\\n\",\n",
       " 'Bromwell High is nothing short of brilliant. Expertly scripted and perfectly delivered, this searing parody of a students and teachers at a South London Public School leaves you literally rolling with laughter. It\\'s vulgar, provocative, witty and sharp. The characters are a superbly caricatured cross section of British society (or to be more accurate, of any society). Following the escapades of Keisha, Latrina and Natella, our three \"protagonists\" for want of a better term, the show doesn\\'t shy away from parodying every imaginable subject. Political correctness flies out the window in every episode. If you enjoy shows that aren\\'t afraid to poke fun of every taboo subject imaginable, then Bromwell High will not disappoint!']"
      ]
     },
     "execution_count": 42,
     "metadata": {},
     "output_type": "execute_result"
    }
   ],
   "source": [
    "txt1 = open(\"reviews1.txt\").readlines()\n",
    "txt1\n"
   ]
  },
  {
   "cell_type": "code",
   "execution_count": 43,
   "metadata": {},
   "outputs": [
    {
     "data": {
      "text/plain": [
       "[\"If I had not read Pat Barker's 'Union Street' before seeing this film, I would have liked it. Unfortuntately this is not the case. It is actually my kind of film, it is well made, and in no way do I want to say otherwise, but as an adaptation, it fails from every angle.<br /><br />The harrowing novel about the reality of living in a northern England working-class area grabbed hold of my heartstrings and refused to let go for weeks after I had finished. I was put through tears, repulsion, shock, anger, sympathy and misery when reading about the women of Union Street. Excellent. A novel that at times I felt I could not read any more of, but I novel I simply couldn't put down. Depressing yes, but utterly gripping.<br /><br />The film. Oh dear. Hollywood took Barker's truth and reality, and showered a layer of sweet icing sugar over the top of it. A beautiful film, an inspiring soundtrack, excellent performances, a tale of hope and romance...yes. An adaptation of 'Union Street'...no.<br /><br />The women of Union Street and their stories are condensed into Fonda's character, their stories are touched on, but many are discarded. I accept that some of Barker's tales are sensitive issues and are too horrific for mass viewing, and that a film with around 7 leading protagonists just isn't practical, but the content is not my main issue. The essence and the real gut of the novel is lost - darkness and rain, broken windows covered with cardboard, and the graphically described stench of poverty is replaced with sunshine, pretty houses, and a twinkling William's score.<br /><br />If you enjoyed the film for its positivity and hope in the face of 'reality', I advise that you hesitate to read the book without first preparing yourself for something more like 'Schindler's List'...but without the happy ending.\\n\",\n",
       " 'Bromwell High is a cartoon comedy. It ran at the same time as some other programs about school life, such as \"Teachers\". My 35 years in the teaching profession lead me to believe that Bromwell High\\'s satire is much closer to reality than is \"Teachers\". The scramble to survive financially, the insightful students who can see right through their pathetic teachers\\' pomp, the pettiness of the whole situation, all remind me of the schools I knew and their students. When I saw the episode in which a student repeatedly tried to burn down the school, I immediately recalled ......... at .......... High. A classic line: INSPECTOR: I\\'m here to sack one of your teachers. STUDENT: Welcome to Bromwell High. I expect that many adults of my age think that Bromwell High is far fetched. What a pity that it isn\\'t!']"
      ]
     },
     "execution_count": 43,
     "metadata": {},
     "output_type": "execute_result"
    }
   ],
   "source": [
    "txt2 = open(\"reviews2.txt\").readlines()\n",
    "txt2"
   ]
  },
  {
   "cell_type": "code",
   "execution_count": 44,
   "metadata": {},
   "outputs": [
    {
     "data": {
      "text/plain": [
       "[\"Robert DeNiro plays the most unbelievably intelligent illiterate of all time. This movie is so wasteful of talent, it is truly disgusting. The script is unbelievable. The dialog is unbelievable. Jane Fonda's character is a caricature of herself, and not a funny one. The movie moves at a snail's pace, is photographed in an ill-advised manner, and is insufferably preachy. It also plugs in every cliche in the book. Swoozie Kurtz is excellent in a supporting role, but so what?<br /><br />Equally annoying is this new IMDB rule of requiring ten lines for every review. When a movie is this worthless, it doesn't require ten lines of text to let other readers know that it is a waste of time and tape. Avoid this movie.\\n\",\n",
       " \"If you like adult comedy cartoons, like South Park, then this is nearly a similar format about the small adventures of three teenage girls at Bromwell High. Keisha, Natella and Latrina have given exploding sweets and behaved like bitches, I think Keisha is a good leader. There are also small stories going on with the teachers of the school. There's the idiotic principal, Mr. Bip, the nervous Maths teacher and many others. The cast is also fantastic, Lenny Henry's Gina Yashere, EastEnders Chrissie Watts, Tracy-Ann Oberman, Smack The Pony's Doon Mackichan, Dead Ringers' Mark Perry and Blunder's Nina Conti. I didn't know this came from Canada, but it is very good. Very good!\"]"
      ]
     },
     "execution_count": 44,
     "metadata": {},
     "output_type": "execute_result"
    }
   ],
   "source": [
    "txt3 = open(\"reviews3.txt\", encoding=\"UTF-16\").readlines()\n",
    "txt3\n"
   ]
  },
  {
   "cell_type": "markdown",
   "metadata": {},
   "source": [
    "# Task 2.\n",
    "\n",
    "#### Split the lines in all texts (seperator ”\\n”) to separate the two reviews in each file and then combine the reviews from all three files into one list. The result should thus be a list of six strings."
   ]
  },
  {
   "cell_type": "code",
   "execution_count": 50,
   "metadata": {},
   "outputs": [
    {
     "name": "stdout",
     "output_type": "stream",
     "text": [
      "[\"Story of a man who has unnatural feelings for a pig. Starts out with a opening scene that is a terrific example of absurd comedy. A formal orchestra audience is turned into an insane, violent mob by the crazy chantings of it's singers. Unfortunately it stays absurd the WHOLE time with no general narrative eventually making it just too off putting. Even those from the era should be turned off. The cryptic dialogue would make Shakespeare seem easy to a third grader. On a technical level it's better than you might think with some good cinematography by future great Vilmos Zsigmond. Future stars Sally Kirkland and Frederic Forrest can be seen briefly.\\n\", 'Bromwell High is nothing short of brilliant. Expertly scripted and perfectly delivered, this searing parody of a students and teachers at a South London Public School leaves you literally rolling with laughter. It\\'s vulgar, provocative, witty and sharp. The characters are a superbly caricatured cross section of British society (or to be more accurate, of any society). Following the escapades of Keisha, Latrina and Natella, our three \"protagonists\" for want of a better term, the show doesn\\'t shy away from parodying every imaginable subject. Political correctness flies out the window in every episode. If you enjoy shows that aren\\'t afraid to poke fun of every taboo subject imaginable, then Bromwell High will not disappoint!', \"If I had not read Pat Barker's 'Union Street' before seeing this film, I would have liked it. Unfortuntately this is not the case. It is actually my kind of film, it is well made, and in no way do I want to say otherwise, but as an adaptation, it fails from every angle.<br /><br />The harrowing novel about the reality of living in a northern England working-class area grabbed hold of my heartstrings and refused to let go for weeks after I had finished. I was put through tears, repulsion, shock, anger, sympathy and misery when reading about the women of Union Street. Excellent. A novel that at times I felt I could not read any more of, but I novel I simply couldn't put down. Depressing yes, but utterly gripping.<br /><br />The film. Oh dear. Hollywood took Barker's truth and reality, and showered a layer of sweet icing sugar over the top of it. A beautiful film, an inspiring soundtrack, excellent performances, a tale of hope and romance...yes. An adaptation of 'Union Street'...no.<br /><br />The women of Union Street and their stories are condensed into Fonda's character, their stories are touched on, but many are discarded. I accept that some of Barker's tales are sensitive issues and are too horrific for mass viewing, and that a film with around 7 leading protagonists just isn't practical, but the content is not my main issue. The essence and the real gut of the novel is lost - darkness and rain, broken windows covered with cardboard, and the graphically described stench of poverty is replaced with sunshine, pretty houses, and a twinkling William's score.<br /><br />If you enjoyed the film for its positivity and hope in the face of 'reality', I advise that you hesitate to read the book without first preparing yourself for something more like 'Schindler's List'...but without the happy ending.\\n\", 'Bromwell High is a cartoon comedy. It ran at the same time as some other programs about school life, such as \"Teachers\". My 35 years in the teaching profession lead me to believe that Bromwell High\\'s satire is much closer to reality than is \"Teachers\". The scramble to survive financially, the insightful students who can see right through their pathetic teachers\\' pomp, the pettiness of the whole situation, all remind me of the schools I knew and their students. When I saw the episode in which a student repeatedly tried to burn down the school, I immediately recalled ......... at .......... High. A classic line: INSPECTOR: I\\'m here to sack one of your teachers. STUDENT: Welcome to Bromwell High. I expect that many adults of my age think that Bromwell High is far fetched. What a pity that it isn\\'t!', \"Robert DeNiro plays the most unbelievably intelligent illiterate of all time. This movie is so wasteful of talent, it is truly disgusting. The script is unbelievable. The dialog is unbelievable. Jane Fonda's character is a caricature of herself, and not a funny one. The movie moves at a snail's pace, is photographed in an ill-advised manner, and is insufferably preachy. It also plugs in every cliche in the book. Swoozie Kurtz is excellent in a supporting role, but so what?<br /><br />Equally annoying is this new IMDB rule of requiring ten lines for every review. When a movie is this worthless, it doesn't require ten lines of text to let other readers know that it is a waste of time and tape. Avoid this movie.\\n\", \"If you like adult comedy cartoons, like South Park, then this is nearly a similar format about the small adventures of three teenage girls at Bromwell High. Keisha, Natella and Latrina have given exploding sweets and behaved like bitches, I think Keisha is a good leader. There are also small stories going on with the teachers of the school. There's the idiotic principal, Mr. Bip, the nervous Maths teacher and many others. The cast is also fantastic, Lenny Henry's Gina Yashere, EastEnders Chrissie Watts, Tracy-Ann Oberman, Smack The Pony's Doon Mackichan, Dead Ringers' Mark Perry and Blunder's Nina Conti. I didn't know this came from Canada, but it is very good. Very good!\"]\n",
      "List lenth:  6\n"
     ]
    }
   ],
   "source": [
    "review_List = []\n",
    "\n",
    "for i in txt1:\n",
    "    review_List.append(i)\n",
    "\n",
    "for i in txt2:\n",
    "    review_List.append(i)\n",
    "    \n",
    "for i in txt3:\n",
    "    review_List.append(i)\n",
    "\n",
    "print(review_List)\n",
    "print(\"List lenth: \",len(review_List))"
   ]
  },
  {
   "cell_type": "markdown",
   "metadata": {},
   "source": [
    "# Task 3.\n",
    "\n",
    "#### Apply elementary text handling (”preprocessing“) steps. That is, within each review \n",
    "\n",
    "* Remove punctuation, numbers and special characters \n",
    "* Turn all letters into lower case \n",
    "* Split the text into individual words\n",
    "\n",
    "#### The result should be a list of lists of Strings. Each inner list/character vector represents a review as separated words."
   ]
  },
  {
   "cell_type": "code",
   "execution_count": 46,
   "metadata": {},
   "outputs": [
    {
     "name": "stdout",
     "output_type": "stream",
     "text": [
      "['Story of a man who has unnatural feelings for a pig Starts out with a opening scene that is a terrific example of absurd comedy A formal orchestra audience is turned into an insane violent mob by the crazy chantings of it s singers Unfortunately it stays absurd the WHOLE time with no general narrative eventually making it just too off putting Even those from the era should be turned off The cryptic dialogue would make Shakespeare seem easy to a third grader On a technical level it s better than you might think with some good cinematography by future great Vilmos Zsigmond Future stars Sally Kirkland and Frederic Forrest can be seen briefly ', 'Bromwell High is nothing short of brilliant Expertly scripted and perfectly delivered this searing parody of a students and teachers at a South London Public School leaves you literally rolling with laughter It s vulgar provocative witty and sharp The characters are a superbly caricatured cross section of British society or to be more accurate of any society Following the escapades of Keisha Latrina and Natella our three protagonists for want of a better term the show doesn t shy away from parodying every imaginable subject Political correctness flies out the window in every episode If you enjoy shows that aren t afraid to poke fun of every taboo subject imaginable then Bromwell High will not disappoint ', 'If I had not read Pat Barker s Union Street before seeing this film I would have liked it Unfortuntately this is not the case It is actually my kind of film it is well made and in no way do I want to say otherwise but as an adaptation it fails from every angle br br The harrowing novel about the reality of living in a northern England working class area grabbed hold of my heartstrings and refused to let go for weeks after I had finished I was put through tears repulsion shock anger sympathy and misery when reading about the women of Union Street Excellent A novel that at times I felt I could not read any more of but I novel I simply couldn t put down Depressing yes but utterly gripping br br The film Oh dear Hollywood took Barker s truth and reality and showered a layer of sweet icing sugar over the top of it A beautiful film an inspiring soundtrack excellent performances a tale of hope and romance yes An adaptation of Union Street no br br The women of Union Street and their stories are condensed into Fonda s character their stories are touched on but many are discarded I accept that some of Barker s tales are sensitive issues and are too horrific for mass viewing and that a film with around 7 leading protagonists just isn t practical but the content is not my main issue The essence and the real gut of the novel is lost darkness and rain broken windows covered with cardboard and the graphically described stench of poverty is replaced with sunshine pretty houses and a twinkling William s score br br If you enjoyed the film for its positivity and hope in the face of reality I advise that you hesitate to read the book without first preparing yourself for something more like Schindler s List but without the happy ending ', 'Bromwell High is a cartoon comedy It ran at the same time as some other programs about school life such as Teachers My 35 years in the teaching profession lead me to believe that Bromwell High s satire is much closer to reality than is Teachers The scramble to survive financially the insightful students who can see right through their pathetic teachers pomp the pettiness of the whole situation all remind me of the schools I knew and their students When I saw the episode in which a student repeatedly tried to burn down the school I immediately recalled at High A classic line INSPECTOR I m here to sack one of your teachers STUDENT Welcome to Bromwell High I expect that many adults of my age think that Bromwell High is far fetched What a pity that it isn t ', 'Robert DeNiro plays the most unbelievably intelligent illiterate of all time This movie is so wasteful of talent it is truly disgusting The script is unbelievable The dialog is unbelievable Jane Fonda s character is a caricature of herself and not a funny one The movie moves at a snail s pace is photographed in an ill advised manner and is insufferably preachy It also plugs in every cliche in the book Swoozie Kurtz is excellent in a supporting role but so what br br Equally annoying is this new IMDB rule of requiring ten lines for every review When a movie is this worthless it doesn t require ten lines of text to let other readers know that it is a waste of time and tape Avoid this movie ', 'If you like adult comedy cartoons like South Park then this is nearly a similar format about the small adventures of three teenage girls at Bromwell High Keisha Natella and Latrina have given exploding sweets and behaved like bitches I think Keisha is a good leader There are also small stories going on with the teachers of the school There s the idiotic principal Mr Bip the nervous Maths teacher and many others The cast is also fantastic Lenny Henry s Gina Yashere EastEnders Chrissie Watts Tracy Ann Oberman Smack The Pony s Doon Mackichan Dead Ringers Mark Perry and Blunder s Nina Conti I didn t know this came from Canada but it is very good Very good ']\n"
     ]
    }
   ],
   "source": [
    "import re\n",
    "\n",
    "processed_reviews = review_List\n",
    "\n",
    "# Remove punctuation, numbers and special characters\n",
    "newList = []\n",
    "for i in processed_reviews:        \n",
    "    newList.append(re.sub('[^A-Za-z0-9]+', ' ', i))\n",
    "    #newList.append(re.sub('\\'', '', i))\n",
    "\n",
    "processed_reviews = newList\n",
    "print(processed_reviews)"
   ]
  },
  {
   "cell_type": "code",
   "execution_count": 47,
   "metadata": {},
   "outputs": [
    {
     "data": {
      "text/plain": [
       "['story of a man who has unnatural feelings for a pig starts out with a opening scene that is a terrific example of absurd comedy a formal orchestra audience is turned into an insane violent mob by the crazy chantings of it s singers unfortunately it stays absurd the whole time with no general narrative eventually making it just too off putting even those from the era should be turned off the cryptic dialogue would make shakespeare seem easy to a third grader on a technical level it s better than you might think with some good cinematography by future great vilmos zsigmond future stars sally kirkland and frederic forrest can be seen briefly ',\n",
       " 'bromwell high is nothing short of brilliant expertly scripted and perfectly delivered this searing parody of a students and teachers at a south london public school leaves you literally rolling with laughter it s vulgar provocative witty and sharp the characters are a superbly caricatured cross section of british society or to be more accurate of any society following the escapades of keisha latrina and natella our three protagonists for want of a better term the show doesn t shy away from parodying every imaginable subject political correctness flies out the window in every episode if you enjoy shows that aren t afraid to poke fun of every taboo subject imaginable then bromwell high will not disappoint ',\n",
       " 'if i had not read pat barker s union street before seeing this film i would have liked it unfortuntately this is not the case it is actually my kind of film it is well made and in no way do i want to say otherwise but as an adaptation it fails from every angle br br the harrowing novel about the reality of living in a northern england working class area grabbed hold of my heartstrings and refused to let go for weeks after i had finished i was put through tears repulsion shock anger sympathy and misery when reading about the women of union street excellent a novel that at times i felt i could not read any more of but i novel i simply couldn t put down depressing yes but utterly gripping br br the film oh dear hollywood took barker s truth and reality and showered a layer of sweet icing sugar over the top of it a beautiful film an inspiring soundtrack excellent performances a tale of hope and romance yes an adaptation of union street no br br the women of union street and their stories are condensed into fonda s character their stories are touched on but many are discarded i accept that some of barker s tales are sensitive issues and are too horrific for mass viewing and that a film with around 7 leading protagonists just isn t practical but the content is not my main issue the essence and the real gut of the novel is lost darkness and rain broken windows covered with cardboard and the graphically described stench of poverty is replaced with sunshine pretty houses and a twinkling william s score br br if you enjoyed the film for its positivity and hope in the face of reality i advise that you hesitate to read the book without first preparing yourself for something more like schindler s list but without the happy ending ',\n",
       " 'bromwell high is a cartoon comedy it ran at the same time as some other programs about school life such as teachers my 35 years in the teaching profession lead me to believe that bromwell high s satire is much closer to reality than is teachers the scramble to survive financially the insightful students who can see right through their pathetic teachers pomp the pettiness of the whole situation all remind me of the schools i knew and their students when i saw the episode in which a student repeatedly tried to burn down the school i immediately recalled at high a classic line inspector i m here to sack one of your teachers student welcome to bromwell high i expect that many adults of my age think that bromwell high is far fetched what a pity that it isn t ',\n",
       " 'robert deniro plays the most unbelievably intelligent illiterate of all time this movie is so wasteful of talent it is truly disgusting the script is unbelievable the dialog is unbelievable jane fonda s character is a caricature of herself and not a funny one the movie moves at a snail s pace is photographed in an ill advised manner and is insufferably preachy it also plugs in every cliche in the book swoozie kurtz is excellent in a supporting role but so what br br equally annoying is this new imdb rule of requiring ten lines for every review when a movie is this worthless it doesn t require ten lines of text to let other readers know that it is a waste of time and tape avoid this movie ',\n",
       " 'if you like adult comedy cartoons like south park then this is nearly a similar format about the small adventures of three teenage girls at bromwell high keisha natella and latrina have given exploding sweets and behaved like bitches i think keisha is a good leader there are also small stories going on with the teachers of the school there s the idiotic principal mr bip the nervous maths teacher and many others the cast is also fantastic lenny henry s gina yashere eastenders chrissie watts tracy ann oberman smack the pony s doon mackichan dead ringers mark perry and blunder s nina conti i didn t know this came from canada but it is very good very good ']"
      ]
     },
     "execution_count": 47,
     "metadata": {},
     "output_type": "execute_result"
    }
   ],
   "source": [
    "# Turn all letters into lower case\n",
    "processed_reviews = list(map(lambda x: x.lower(), processed_reviews))\n",
    "processed_reviews"
   ]
  },
  {
   "cell_type": "code",
   "execution_count": 48,
   "metadata": {},
   "outputs": [
    {
     "data": {
      "text/plain": [
       "['story',\n",
       " 'of',\n",
       " 'a',\n",
       " 'man',\n",
       " 'who',\n",
       " 'has',\n",
       " 'unnatural',\n",
       " 'feelings',\n",
       " 'for',\n",
       " 'a',\n",
       " 'pig',\n",
       " 'starts',\n",
       " 'out',\n",
       " 'with',\n",
       " 'a',\n",
       " 'opening',\n",
       " 'scene',\n",
       " 'that',\n",
       " 'is',\n",
       " 'a',\n",
       " 'terrific',\n",
       " 'example',\n",
       " 'of',\n",
       " 'absurd',\n",
       " 'comedy',\n",
       " 'a',\n",
       " 'formal',\n",
       " 'orchestra',\n",
       " 'audience',\n",
       " 'is',\n",
       " 'turned',\n",
       " 'into',\n",
       " 'an',\n",
       " 'insane',\n",
       " 'violent',\n",
       " 'mob',\n",
       " 'by',\n",
       " 'the',\n",
       " 'crazy',\n",
       " 'chantings',\n",
       " 'of',\n",
       " 'it',\n",
       " 's',\n",
       " 'singers',\n",
       " 'unfortunately',\n",
       " 'it',\n",
       " 'stays',\n",
       " 'absurd',\n",
       " 'the',\n",
       " 'whole',\n",
       " 'time',\n",
       " 'with',\n",
       " 'no',\n",
       " 'general',\n",
       " 'narrative',\n",
       " 'eventually',\n",
       " 'making',\n",
       " 'it',\n",
       " 'just',\n",
       " 'too',\n",
       " 'off',\n",
       " 'putting',\n",
       " 'even',\n",
       " 'those',\n",
       " 'from',\n",
       " 'the',\n",
       " 'era',\n",
       " 'should',\n",
       " 'be',\n",
       " 'turned',\n",
       " 'off',\n",
       " 'the',\n",
       " 'cryptic',\n",
       " 'dialogue',\n",
       " 'would',\n",
       " 'make',\n",
       " 'shakespeare',\n",
       " 'seem',\n",
       " 'easy',\n",
       " 'to',\n",
       " 'a',\n",
       " 'third',\n",
       " 'grader',\n",
       " 'on',\n",
       " 'a',\n",
       " 'technical',\n",
       " 'level',\n",
       " 'it',\n",
       " 's',\n",
       " 'better',\n",
       " 'than',\n",
       " 'you',\n",
       " 'might',\n",
       " 'think',\n",
       " 'with',\n",
       " 'some',\n",
       " 'good',\n",
       " 'cinematography',\n",
       " 'by',\n",
       " 'future',\n",
       " 'great',\n",
       " 'vilmos',\n",
       " 'zsigmond',\n",
       " 'future',\n",
       " 'stars',\n",
       " 'sally',\n",
       " 'kirkland',\n",
       " 'and',\n",
       " 'frederic',\n",
       " 'forrest',\n",
       " 'can',\n",
       " 'be',\n",
       " 'seen',\n",
       " 'briefly']"
      ]
     },
     "execution_count": 48,
     "metadata": {},
     "output_type": "execute_result"
    }
   ],
   "source": [
    "# Split the text into individual words\n",
    "splitted_words = processed_reviews[0].split()\n",
    "splitted_words"
   ]
  },
  {
   "cell_type": "markdown",
   "metadata": {},
   "source": [
    "# Task 4.\n",
    "\n",
    "#### Count how often each word occurs in this text corpus and display the 5 most common words."
   ]
  },
  {
   "cell_type": "code",
   "execution_count": 49,
   "metadata": {},
   "outputs": [
    {
     "name": "stdout",
     "output_type": "stream",
     "text": [
      "a: 7\n",
      "the: 4\n",
      "it: 4\n",
      "of: 3\n",
      "with: 3\n"
     ]
    }
   ],
   "source": [
    "from collections import Counter\n",
    "\n",
    "# Top 5 occuring words\n",
    "def count_words(text):\n",
    "    word_count = Counter(text)\n",
    "    return word_count\n",
    "\n",
    "word_counts = count_words(splitted_words)\n",
    "\n",
    "# Display top 5 word occurences\n",
    "top_5_words = word_counts.most_common(5)\n",
    "for word, count in top_5_words:\n",
    "    print(f'{word}: {count}')"
   ]
  },
  {
   "cell_type": "markdown",
   "metadata": {},
   "source": [
    "### Can we use these top words to infer what the texts are about?\n",
    "\n",
    "#### No, we cannot use these top words to infer what the text is about because these words are most common words and used everywhere in general topics. What we can do is some kind of classification or modelling to recognize the topic of the text."
   ]
  }
 ],
 "metadata": {
  "kernelspec": {
   "display_name": "Python 3",
   "language": "python",
   "name": "python3"
  },
  "language_info": {
   "codemirror_mode": {
    "name": "ipython",
    "version": 3
   },
   "file_extension": ".py",
   "mimetype": "text/x-python",
   "name": "python",
   "nbconvert_exporter": "python",
   "pygments_lexer": "ipython3",
   "version": "3.11.1"
  },
  "orig_nbformat": 4
 },
 "nbformat": 4,
 "nbformat_minor": 2
}
