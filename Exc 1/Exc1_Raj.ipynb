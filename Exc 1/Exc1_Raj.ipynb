{
 "cells": [
  {
   "cell_type": "markdown",
   "metadata": {},
   "source": [
    "# Task 1. "
   ]
  },
  {
   "cell_type": "code",
   "execution_count": 23,
   "metadata": {},
   "outputs": [
    {
     "data": {
      "text/plain": [
       "[\"Story of a man who has unnatural feelings for a pig. Starts out with a opening scene that is a terrific example of absurd comedy. A formal orchestra audience is turned into an insane, violent mob by the crazy chantings of it's singers. Unfortunately it stays absurd the WHOLE time with no general narrative eventually making it just too off putting. Even those from the era should be turned off. The cryptic dialogue would make Shakespeare seem easy to a third grader. On a technical level it's better than you might think with some good cinematography by future great Vilmos Zsigmond. Future stars Sally Kirkland and Frederic Forrest can be seen briefly.\\n\",\n",
       " 'Bromwell High is nothing short of brilliant. Expertly scripted and perfectly delivered, this searing parody of a students and teachers at a South London Public School leaves you literally rolling with laughter. It\\'s vulgar, provocative, witty and sharp. The characters are a superbly caricatured cross section of British society (or to be more accurate, of any society). Following the escapades of Keisha, Latrina and Natella, our three \"protagonists\" for want of a better term, the show doesn\\'t shy away from parodying every imaginable subject. Political correctness flies out the window in every episode. If you enjoy shows that aren\\'t afraid to poke fun of every taboo subject imaginable, then Bromwell High will not disappoint!']"
      ]
     },
     "execution_count": 23,
     "metadata": {},
     "output_type": "execute_result"
    }
   ],
   "source": [
    "txt1 = open(\"reviews1.txt\").readlines()\n",
    "txt1\n"
   ]
  },
  {
   "cell_type": "code",
   "execution_count": 75,
   "metadata": {},
   "outputs": [
    {
     "data": {
      "text/plain": [
       "[\"If I had not read Pat Barker's 'Union Street' before seeing this film, I would have liked it. Unfortuntately this is not the case. It is actually my kind of film, it is well made, and in no way do I want to say otherwise, but as an adaptation, it fails from every angle.<br /><br />The harrowing novel about the reality of living in a northern England working-class area grabbed hold of my heartstrings and refused to let go for weeks after I had finished. I was put through tears, repulsion, shock, anger, sympathy and misery when reading about the women of Union Street. Excellent. A novel that at times I felt I could not read any more of, but I novel I simply couldn't put down. Depressing yes, but utterly gripping.<br /><br />The film. Oh dear. Hollywood took Barker's truth and reality, and showered a layer of sweet icing sugar over the top of it. A beautiful film, an inspiring soundtrack, excellent performances, a tale of hope and romance...yes. An adaptation of 'Union Street'...no.<br /><br />The women of Union Street and their stories are condensed into Fonda's character, their stories are touched on, but many are discarded. I accept that some of Barker's tales are sensitive issues and are too horrific for mass viewing, and that a film with around 7 leading protagonists just isn't practical, but the content is not my main issue. The essence and the real gut of the novel is lost - darkness and rain, broken windows covered with cardboard, and the graphically described stench of poverty is replaced with sunshine, pretty houses, and a twinkling William's score.<br /><br />If you enjoyed the film for its positivity and hope in the face of 'reality', I advise that you hesitate to read the book without first preparing yourself for something more like 'Schindler's List'...but without the happy ending.\\n\",\n",
       " 'Bromwell High is a cartoon comedy. It ran at the same time as some other programs about school life, such as \"Teachers\". My 35 years in the teaching profession lead me to believe that Bromwell High\\'s satire is much closer to reality than is \"Teachers\". The scramble to survive financially, the insightful students who can see right through their pathetic teachers\\' pomp, the pettiness of the whole situation, all remind me of the schools I knew and their students. When I saw the episode in which a student repeatedly tried to burn down the school, I immediately recalled ......... at .......... High. A classic line: INSPECTOR: I\\'m here to sack one of your teachers. STUDENT: Welcome to Bromwell High. I expect that many adults of my age think that Bromwell High is far fetched. What a pity that it isn\\'t!']"
      ]
     },
     "execution_count": 75,
     "metadata": {},
     "output_type": "execute_result"
    }
   ],
   "source": [
    "txt2 = open(\"reviews2.txt\").readlines()\n",
    "txt2"
   ]
  },
  {
   "cell_type": "code",
   "execution_count": 78,
   "metadata": {},
   "outputs": [
    {
     "data": {
      "text/plain": [
       "[\"Robert DeNiro plays the most unbelievably intelligent illiterate of all time. This movie is so wasteful of talent, it is truly disgusting. The script is unbelievable. The dialog is unbelievable. Jane Fonda's character is a caricature of herself, and not a funny one. The movie moves at a snail's pace, is photographed in an ill-advised manner, and is insufferably preachy. It also plugs in every cliche in the book. Swoozie Kurtz is excellent in a supporting role, but so what?<br /><br />Equally annoying is this new IMDB rule of requiring ten lines for every review. When a movie is this worthless, it doesn't require ten lines of text to let other readers know that it is a waste of time and tape. Avoid this movie.\\n\",\n",
       " \"If you like adult comedy cartoons, like South Park, then this is nearly a similar format about the small adventures of three teenage girls at Bromwell High. Keisha, Natella and Latrina have given exploding sweets and behaved like bitches, I think Keisha is a good leader. There are also small stories going on with the teachers of the school. There's the idiotic principal, Mr. Bip, the nervous Maths teacher and many others. The cast is also fantastic, Lenny Henry's Gina Yashere, EastEnders Chrissie Watts, Tracy-Ann Oberman, Smack The Pony's Doon Mackichan, Dead Ringers' Mark Perry and Blunder's Nina Conti. I didn't know this came from Canada, but it is very good. Very good!\"]"
      ]
     },
     "execution_count": 78,
     "metadata": {},
     "output_type": "execute_result"
    }
   ],
   "source": [
    "txt3 = open(\"reviews3.txt\", encoding=\"UTF-16\").readlines()\n",
    "txt3\n"
   ]
  },
  {
   "cell_type": "markdown",
   "metadata": {},
   "source": [
    "# Task 2."
   ]
  },
  {
   "cell_type": "code",
   "execution_count": 36,
   "metadata": {},
   "outputs": [
    {
     "name": "stdout",
     "output_type": "stream",
     "text": [
      "[\"Story of a man who has unnatural feelings for a pig. Starts out with a opening scene that is a terrific example of absurd comedy. A formal orchestra audience is turned into an insane, violent mob by the crazy chantings of it's singers. Unfortunately it stays absurd the WHOLE time with no general narrative eventually making it just too off putting. Even those from the era should be turned off. The cryptic dialogue would make Shakespeare seem easy to a third grader. On a technical level it's better than you might think with some good cinematography by future great Vilmos Zsigmond. Future stars Sally Kirkland and Frederic Forrest can be seen briefly.\\n\", 'Bromwell High is nothing short of brilliant. Expertly scripted and perfectly delivered, this searing parody of a students and teachers at a South London Public School leaves you literally rolling with laughter. It\\'s vulgar, provocative, witty and sharp. The characters are a superbly caricatured cross section of British society (or to be more accurate, of any society). Following the escapades of Keisha, Latrina and Natella, our three \"protagonists\" for want of a better term, the show doesn\\'t shy away from parodying every imaginable subject. Political correctness flies out the window in every episode. If you enjoy shows that aren\\'t afraid to poke fun of every taboo subject imaginable, then Bromwell High will not disappoint!', \"If I had not read Pat Barker's 'Union Street' before seeing this film, I would have liked it. Unfortuntately this is not the case. It is actually my kind of film, it is well made, and in no way do I want to say otherwise, but as an adaptation, it fails from every angle.<br /><br />The harrowing novel about the reality of living in a northern England working-class area grabbed hold of my heartstrings and refused to let go for weeks after I had finished. I was put through tears, repulsion, shock, anger, sympathy and misery when reading about the women of Union Street. Excellent. A novel that at times I felt I could not read any more of, but I novel I simply couldn't put down. Depressing yes, but utterly gripping.<br /><br />The film. Oh dear. Hollywood took Barker's truth and reality, and showered a layer of sweet icing sugar over the top of it. A beautiful film, an inspiring soundtrack, excellent performances, a tale of hope and romance...yes. An adaptation of 'Union Street'...no.<br /><br />The women of Union Street and their stories are condensed into Fonda's character, their stories are touched on, but many are discarded. I accept that some of Barker's tales are sensitive issues and are too horrific for mass viewing, and that a film with around 7 leading protagonists just isn't practical, but the content is not my main issue. The essence and the real gut of the novel is lost - darkness and rain, broken windows covered with cardboard, and the graphically described stench of poverty is replaced with sunshine, pretty houses, and a twinkling William's score.<br /><br />If you enjoyed the film for its positivity and hope in the face of 'reality', I advise that you hesitate to read the book without first preparing yourself for something more like 'Schindler's List'...but without the happy ending.\\n\", 'Bromwell High is a cartoon comedy. It ran at the same time as some other programs about school life, such as \"Teachers\". My 35 years in the teaching profession lead me to believe that Bromwell High\\'s satire is much closer to reality than is \"Teachers\". The scramble to survive financially, the insightful students who can see right through their pathetic teachers\\' pomp, the pettiness of the whole situation, all remind me of the schools I knew and their students. When I saw the episode in which a student repeatedly tried to burn down the school, I immediately recalled ......... at .......... High. A classic line: INSPECTOR: I\\'m here to sack one of your teachers. STUDENT: Welcome to Bromwell High. I expect that many adults of my age think that Bromwell High is far fetched. What a pity that it isn\\'t!', \"Robert DeNiro plays the most unbelievably intelligent illiterate of all time. This movie is so wasteful of talent, it is truly disgusting. The script is unbelievable. The dialog is unbelievable. Jane Fonda's character is a caricature of herself, and not a funny one. The movie moves at a snail's pace, is photographed in an ill-advised manner, and is insufferably preachy. It also plugs in every cliche in the book. Swoozie Kurtz is excellent in a supporting role, but so what?<br /><br />Equally annoying is this new IMDB rule of requiring ten lines for every review. When a movie is this worthless, it doesn't require ten lines of text to let other readers know that it is a waste of time and tape. Avoid this movie.\\n\", \"If you like adult comedy cartoons, like South Park, then this is nearly a similar format about the small adventures of three teenage girls at Bromwell High. Keisha, Natella and Latrina have given exploding sweets and behaved like bitches, I think Keisha is a good leader. There are also small stories going on with the teachers of the school. There's the idiotic principal, Mr. Bip, the nervous Maths teacher and many others. The cast is also fantastic, Lenny Henry's Gina Yashere, EastEnders Chrissie Watts, Tracy-Ann Oberman, Smack The Pony's Doon Mackichan, Dead Ringers' Mark Perry and Blunder's Nina Conti. I didn't know this came from Canada, but it is very good. Very good!\"]\n",
      "List lenth:  6\n"
     ]
    }
   ],
   "source": [
    "review_List = []\n",
    "\n",
    "review_List.append(txt1[0])\n",
    "review_List.append(txt1[1])\n",
    "\n",
    "review_List.append(txt2[0])\n",
    "review_List.append(txt2[1])\n",
    "\n",
    "review_List.append(txt3[0])\n",
    "review_List.append(txt3[1])\n",
    "\n",
    "print(review_List)\n",
    "\n",
    "print(\"List lenth: \",len(review_List))"
   ]
  },
  {
   "cell_type": "markdown",
   "metadata": {},
   "source": [
    "# Task 3"
   ]
  },
  {
   "cell_type": "code",
   "execution_count": 72,
   "metadata": {},
   "outputs": [
    {
     "name": "stdout",
     "output_type": "stream",
     "text": [
      "['Story', 'of', 'a', 'man', 'who', 'has', 'unnatural', 'feelings', 'for', 'a', 'pig.', 'Starts', 'out', 'with', 'a', 'opening', 'scene', 'that', 'is', 'a', 'terrific', 'example', 'of', 'absurd', 'comedy.', 'A', 'formal', 'orchestra', 'audience', 'is', 'turned', 'into', 'an', 'insane,', 'violent', 'mob', 'by', 'the', 'crazy', 'chantings', 'of', \"it's\", 'singers.', 'Unfortunately', 'it', 'stays', 'absurd', 'the', 'WHOLE', 'time', 'with', 'no', 'general', 'narrative', 'eventually', 'making', 'it', 'just', 'too', 'off', 'putting.', 'Even', 'those', 'from', 'the', 'era', 'should', 'be', 'turned', 'off.', 'The', 'cryptic', 'dialogue', 'would', 'make', 'Shakespeare', 'seem', 'easy', 'to', 'a', 'third', 'grader.', 'On', 'a', 'technical', 'level', \"it's\", 'better', 'than', 'you', 'might', 'think', 'with', 'some', 'good', 'cinematography', 'by', 'future', 'great', 'Vilmos', 'Zsigmond.', 'Future', 'stars', 'Sally', 'Kirkland', 'and', 'Frederic', 'Forrest', 'can', 'be', 'seen', 'briefly.']\n",
      "['Bromwell', 'High', 'is', 'nothing', 'short', 'of', 'brilliant.', 'Expertly', 'scripted', 'and', 'perfectly', 'delivered,', 'this', 'searing', 'parody', 'of', 'a', 'students', 'and', 'teachers', 'at', 'a', 'South', 'London', 'Public', 'School', 'leaves', 'you', 'literally', 'rolling', 'with', 'laughter.', \"It's\", 'vulgar,', 'provocative,', 'witty', 'and', 'sharp.', 'The', 'characters', 'are', 'a', 'superbly', 'caricatured', 'cross', 'section', 'of', 'British', 'society', '(or', 'to', 'be', 'more', 'accurate,', 'of', 'any', 'society).', 'Following', 'the', 'escapades', 'of', 'Keisha,', 'Latrina', 'and', 'Natella,', 'our', 'three', '\"protagonists\"', 'for', 'want', 'of', 'a', 'better', 'term,', 'the', 'show', \"doesn't\", 'shy', 'away', 'from', 'parodying', 'every', 'imaginable', 'subject.', 'Political', 'correctness', 'flies', 'out', 'the', 'window', 'in', 'every', 'episode.', 'If', 'you', 'enjoy', 'shows', 'that', \"aren't\", 'afraid', 'to', 'poke', 'fun', 'of', 'every', 'taboo', 'subject', 'imaginable,', 'then', 'Bromwell', 'High', 'will', 'not', 'disappoint!']\n",
      "['If', 'I', 'had', 'not', 'read', 'Pat', \"Barker's\", \"'Union\", \"Street'\", 'before', 'seeing', 'this', 'film,', 'I', 'would', 'have', 'liked', 'it.', 'Unfortuntately', 'this', 'is', 'not', 'the', 'case.', 'It', 'is', 'actually', 'my', 'kind', 'of', 'film,', 'it', 'is', 'well', 'made,', 'and', 'in', 'no', 'way', 'do', 'I', 'want', 'to', 'say', 'otherwise,', 'but', 'as', 'an', 'adaptation,', 'it', 'fails', 'from', 'every', 'angle.<br', '/><br', '/>The', 'harrowing', 'novel', 'about', 'the', 'reality', 'of', 'living', 'in', 'a', 'northern', 'England', 'working-class', 'area', 'grabbed', 'hold', 'of', 'my', 'heartstrings', 'and', 'refused', 'to', 'let', 'go', 'for', 'weeks', 'after', 'I', 'had', 'finished.', 'I', 'was', 'put', 'through', 'tears,', 'repulsion,', 'shock,', 'anger,', 'sympathy', 'and', 'misery', 'when', 'reading', 'about', 'the', 'women', 'of', 'Union', 'Street.', 'Excellent.', 'A', 'novel', 'that', 'at', 'times', 'I', 'felt', 'I', 'could', 'not', 'read', 'any', 'more', 'of,', 'but', 'I', 'novel', 'I', 'simply', \"couldn't\", 'put', 'down.', 'Depressing', 'yes,', 'but', 'utterly', 'gripping.<br', '/><br', '/>The', 'film.', 'Oh', 'dear.', 'Hollywood', 'took', \"Barker's\", 'truth', 'and', 'reality,', 'and', 'showered', 'a', 'layer', 'of', 'sweet', 'icing', 'sugar', 'over', 'the', 'top', 'of', 'it.', 'A', 'beautiful', 'film,', 'an', 'inspiring', 'soundtrack,', 'excellent', 'performances,', 'a', 'tale', 'of', 'hope', 'and', 'romance...yes.', 'An', 'adaptation', 'of', \"'Union\", \"Street'...no.<br\", '/><br', '/>The', 'women', 'of', 'Union', 'Street', 'and', 'their', 'stories', 'are', 'condensed', 'into', \"Fonda's\", 'character,', 'their', 'stories', 'are', 'touched', 'on,', 'but', 'many', 'are', 'discarded.', 'I', 'accept', 'that', 'some', 'of', \"Barker's\", 'tales', 'are', 'sensitive', 'issues', 'and', 'are', 'too', 'horrific', 'for', 'mass', 'viewing,', 'and', 'that', 'a', 'film', 'with', 'around', '7', 'leading', 'protagonists', 'just', \"isn't\", 'practical,', 'but', 'the', 'content', 'is', 'not', 'my', 'main', 'issue.', 'The', 'essence', 'and', 'the', 'real', 'gut', 'of', 'the', 'novel', 'is', 'lost', '-', 'darkness', 'and', 'rain,', 'broken', 'windows', 'covered', 'with', 'cardboard,', 'and', 'the', 'graphically', 'described', 'stench', 'of', 'poverty', 'is', 'replaced', 'with', 'sunshine,', 'pretty', 'houses,', 'and', 'a', 'twinkling', \"William's\", 'score.<br', '/><br', '/>If', 'you', 'enjoyed', 'the', 'film', 'for', 'its', 'positivity', 'and', 'hope', 'in', 'the', 'face', 'of', \"'reality',\", 'I', 'advise', 'that', 'you', 'hesitate', 'to', 'read', 'the', 'book', 'without', 'first', 'preparing', 'yourself', 'for', 'something', 'more', 'like', \"'Schindler's\", \"List'...but\", 'without', 'the', 'happy', 'ending.']\n",
      "['Bromwell', 'High', 'is', 'a', 'cartoon', 'comedy.', 'It', 'ran', 'at', 'the', 'same', 'time', 'as', 'some', 'other', 'programs', 'about', 'school', 'life,', 'such', 'as', '\"Teachers\".', 'My', '35', 'years', 'in', 'the', 'teaching', 'profession', 'lead', 'me', 'to', 'believe', 'that', 'Bromwell', \"High's\", 'satire', 'is', 'much', 'closer', 'to', 'reality', 'than', 'is', '\"Teachers\".', 'The', 'scramble', 'to', 'survive', 'financially,', 'the', 'insightful', 'students', 'who', 'can', 'see', 'right', 'through', 'their', 'pathetic', \"teachers'\", 'pomp,', 'the', 'pettiness', 'of', 'the', 'whole', 'situation,', 'all', 'remind', 'me', 'of', 'the', 'schools', 'I', 'knew', 'and', 'their', 'students.', 'When', 'I', 'saw', 'the', 'episode', 'in', 'which', 'a', 'student', 'repeatedly', 'tried', 'to', 'burn', 'down', 'the', 'school,', 'I', 'immediately', 'recalled', '.........', 'at', '..........', 'High.', 'A', 'classic', 'line:', 'INSPECTOR:', \"I'm\", 'here', 'to', 'sack', 'one', 'of', 'your', 'teachers.', 'STUDENT:', 'Welcome', 'to', 'Bromwell', 'High.', 'I', 'expect', 'that', 'many', 'adults', 'of', 'my', 'age', 'think', 'that', 'Bromwell', 'High', 'is', 'far', 'fetched.', 'What', 'a', 'pity', 'that', 'it', \"isn't!\"]\n",
      "['Robert', 'DeNiro', 'plays', 'the', 'most', 'unbelievably', 'intelligent', 'illiterate', 'of', 'all', 'time.', 'This', 'movie', 'is', 'so', 'wasteful', 'of', 'talent,', 'it', 'is', 'truly', 'disgusting.', 'The', 'script', 'is', 'unbelievable.', 'The', 'dialog', 'is', 'unbelievable.', 'Jane', \"Fonda's\", 'character', 'is', 'a', 'caricature', 'of', 'herself,', 'and', 'not', 'a', 'funny', 'one.', 'The', 'movie', 'moves', 'at', 'a', \"snail's\", 'pace,', 'is', 'photographed', 'in', 'an', 'ill-advised', 'manner,', 'and', 'is', 'insufferably', 'preachy.', 'It', 'also', 'plugs', 'in', 'every', 'cliche', 'in', 'the', 'book.', 'Swoozie', 'Kurtz', 'is', 'excellent', 'in', 'a', 'supporting', 'role,', 'but', 'so', 'what?<br', '/><br', '/>Equally', 'annoying', 'is', 'this', 'new', 'IMDB', 'rule', 'of', 'requiring', 'ten', 'lines', 'for', 'every', 'review.', 'When', 'a', 'movie', 'is', 'this', 'worthless,', 'it', \"doesn't\", 'require', 'ten', 'lines', 'of', 'text', 'to', 'let', 'other', 'readers', 'know', 'that', 'it', 'is', 'a', 'waste', 'of', 'time', 'and', 'tape.', 'Avoid', 'this', 'movie.']\n",
      "['If', 'you', 'like', 'adult', 'comedy', 'cartoons,', 'like', 'South', 'Park,', 'then', 'this', 'is', 'nearly', 'a', 'similar', 'format', 'about', 'the', 'small', 'adventures', 'of', 'three', 'teenage', 'girls', 'at', 'Bromwell', 'High.', 'Keisha,', 'Natella', 'and', 'Latrina', 'have', 'given', 'exploding', 'sweets', 'and', 'behaved', 'like', 'bitches,', 'I', 'think', 'Keisha', 'is', 'a', 'good', 'leader.', 'There', 'are', 'also', 'small', 'stories', 'going', 'on', 'with', 'the', 'teachers', 'of', 'the', 'school.', \"There's\", 'the', 'idiotic', 'principal,', 'Mr.', 'Bip,', 'the', 'nervous', 'Maths', 'teacher', 'and', 'many', 'others.', 'The', 'cast', 'is', 'also', 'fantastic,', 'Lenny', \"Henry's\", 'Gina', 'Yashere,', 'EastEnders', 'Chrissie', 'Watts,', 'Tracy-Ann', 'Oberman,', 'Smack', 'The', \"Pony's\", 'Doon', 'Mackichan,', 'Dead', \"Ringers'\", 'Mark', 'Perry', 'and', \"Blunder's\", 'Nina', 'Conti.', 'I', \"didn't\", 'know', 'this', 'came', 'from', 'Canada,', 'but', 'it', 'is', 'very', 'good.', 'Very', 'good!']\n"
     ]
    }
   ],
   "source": [
    "import re\n",
    "\n",
    "processed_reviews = review_List\n",
    "\n",
    "# Remove punctuation, numbers and special characters\n",
    "# r = re.compile(\"[^A-Z]\")\n",
    "# list(filter(r.match, processed_reviews))\n",
    "\n",
    "for i in review_List:    \n",
    "    i = i.split()\n",
    "    print(i)\n",
    "\n",
    "#print(processed_reviews)\n",
    "\n",
    "# Turn all letters into lower case\n",
    "#processed_reviews = list(map(lambda x: x.lower(), processed_reviews))\n",
    "#print(processed_reviews)\n",
    "# processed_reviews\n",
    "\n",
    "# Split the text into individual words\n",
    "# splitted_words = processed_reviews[0].split()\n",
    "#print(splitted_words)\n",
    "# splitted_words\n"
   ]
  },
  {
   "cell_type": "markdown",
   "metadata": {},
   "source": [
    "# Task 4"
   ]
  },
  {
   "cell_type": "code",
   "execution_count": null,
   "metadata": {},
   "outputs": [],
   "source": []
  }
 ],
 "metadata": {
  "kernelspec": {
   "display_name": "Python 3",
   "language": "python",
   "name": "python3"
  },
  "language_info": {
   "codemirror_mode": {
    "name": "ipython",
    "version": 3
   },
   "file_extension": ".py",
   "mimetype": "text/x-python",
   "name": "python",
   "nbconvert_exporter": "python",
   "pygments_lexer": "ipython3",
   "version": "3.11.1"
  },
  "orig_nbformat": 4
 },
 "nbformat": 4,
 "nbformat_minor": 2
}
