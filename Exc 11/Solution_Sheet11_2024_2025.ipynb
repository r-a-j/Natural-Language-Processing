{
 "cells": [
  {
   "cell_type": "markdown",
   "metadata": {},
   "source": [
    "### 🚀 Task 1: Load Dataset"
   ]
  },
  {
   "cell_type": "code",
   "execution_count": null,
   "metadata": {},
   "outputs": [],
   "source": [
    "import pandas as pd\n",
    "\n",
    "# Load the language detection dataset\n",
    "dataset_path = \"/mnt/data/Language_Detection.csv\"\n",
    "df = pd.read_csv(dataset_path)\n",
    "\n",
    "# Display the dataset\n",
    "import ace_tools as tools\n",
    "tools.display_dataframe_to_user(name=\"Language Detection Dataset\", dataframe=df)\n",
    "\n",
    "print(\"✅ Language Detection dataset loaded successfully!\")\n"
   ]
  },
  {
   "cell_type": "markdown",
   "metadata": {},
   "source": [
    "### 🚀 Task 2: Use Pretrained Models from Hugging Face"
   ]
  },
  {
   "cell_type": "code",
   "execution_count": null,
   "metadata": {},
   "outputs": [],
   "source": [
    "from transformers import pipeline\n",
    "\n",
    "# Load a language detection model from Hugging Face\n",
    "language_identifier = pipeline(\"text-classification\", model=\"facebook/fasttext-language-identification\")\n",
    "\n",
    "# Function to detect language\n",
    "def detect_language(text):\n",
    "    try:\n",
    "        result = language_identifier(text[:512])  # Limit text length to avoid memory issues\n",
    "        return result[0][\"label\"]  # Extract the predicted language\n",
    "    except Exception as e:\n",
    "        return f\"Error: {e}\"\n",
    "\n",
    "# Apply the language detection model\n",
    "df[\"predicted_language\"] = df[\"text\"].astype(str).apply(detect_language)\n",
    "\n",
    "# Display results\n",
    "tools.display_dataframe_to_user(name=\"Predicted Language Results\", dataframe=df)\n",
    "\n",
    "print(\"✅ Language detection completed using Hugging Face model!\")\n"
   ]
  },
  {
   "cell_type": "markdown",
   "metadata": {},
   "source": [
    "### 🚀 Task 3: Compare with Other Models"
   ]
  },
  {
   "cell_type": "code",
   "execution_count": null,
   "metadata": {},
   "outputs": [],
   "source": [
    "# Load an alternative Hugging Face model for language detection\n",
    "alt_language_identifier = pipeline(\"text-classification\", model=\"papluca/xlm-roberta-base-language-detection\")\n",
    "\n",
    "# Function to detect language using alternative model\n",
    "def detect_language_alt(text):\n",
    "    try:\n",
    "        result = alt_language_identifier(text[:512])\n",
    "        return result[0][\"label\"]\n",
    "    except Exception as e:\n",
    "        return f\"Error: {e}\"\n",
    "\n",
    "# Apply alternative model\n",
    "df[\"predicted_language_alt\"] = df[\"text\"].astype(str).apply(detect_language_alt)\n",
    "\n",
    "# Display alternative model results\n",
    "tools.display_dataframe_to_user(name=\"Alternative Model Predictions\", dataframe=df)\n",
    "\n",
    "print(\"✅ Alternative language detection completed!\")\n"
   ]
  },
  {
   "cell_type": "markdown",
   "metadata": {},
   "source": [
    "### 🚀 Task 4: Evaluate Performance"
   ]
  },
  {
   "cell_type": "code",
   "execution_count": null,
   "metadata": {},
   "outputs": [],
   "source": [
    "from sklearn.metrics import accuracy_score\n",
    "\n",
    "# Compute accuracy for both models\n",
    "true_labels = df[\"language\"]  # Assuming 'language' column contains true labels\n",
    "accuracy_primary = accuracy_score(true_labels, df[\"predicted_language\"])\n",
    "accuracy_alternative = accuracy_score(true_labels, df[\"predicted_language_alt\"])\n",
    "\n",
    "print(f\"✅ Accuracy of Facebook FastText Model: {accuracy_primary:.4f}\")\n",
    "print(f\"✅ Accuracy of XLM-Roberta Model: {accuracy_alternative:.4f}\")\n"
   ]
  }
 ],
 "metadata": {
  "kernelspec": {
   "display_name": "exam_env",
   "language": "python",
   "name": "python3"
  },
  "language_info": {
   "name": "python",
   "version": "3.9.21"
  }
 },
 "nbformat": 4,
 "nbformat_minor": 2
}
